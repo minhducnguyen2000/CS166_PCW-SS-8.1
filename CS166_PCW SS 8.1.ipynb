{
 "cells": [
  {
   "cell_type": "code",
   "execution_count": 1,
   "metadata": {},
   "outputs": [],
   "source": [
    "import numpy as np\n",
    "import matplotlib.pyplot as plt\n",
    "\n",
    "class IsingSimulation:\n",
    "\n",
    "    J = 6.34369e-21  # Interaction constant for iron [Joule]\n",
    "    kB = 1.38065e-23  # Boltzmann constant [Joule / Kelvin]\n",
    "\n",
    "    def __init__(self, size, temperature=300):\n",
    "        '''\n",
    "        Create a new Ising model simulation. The state is initialized\n",
    "        randomly.\n",
    "\n",
    "        Arguments:\n",
    "\n",
    "            size (int) The number of cells along each dimension of the\n",
    "              square grid.\n",
    "\n",
    "            temperature (float) The temperature in Kelvin at which to\n",
    "              run the simulation. The Curie temperature for iron is\n",
    "              1043 K. Room temperature is about 300 K. Default: 300.\n",
    "        '''\n",
    "        self.size = size\n",
    "        self.temperature = temperature\n",
    "        self.state = np.random.choice(\n",
    "            [-1, +1], size=(self.size, self.size))\n",
    "        self.step = 0\n",
    "\n",
    "    def set_temperature(self, temp):\n",
    "        '''\n",
    "        Set the temperature of the model in Kelvin.\n",
    "        '''\n",
    "        self.temperature = float(temp)\n",
    "\n",
    "    def energy(self):\n",
    "        '''\n",
    "        Compute the energy of the current state of the model.\n",
    "        '''\n",
    "        return -self.J * (self.state * (\n",
    "            np.roll(self.state, 1, axis=0) +\n",
    "            np.roll(self.state, 1, axis=1))).sum()\n",
    "\n",
    "    def average_magnetism(self):\n",
    "        '''\n",
    "        Compute the average per-cell magnetism of the current state\n",
    "        of the model.\n",
    "        '''\n",
    "        return self.state.mean()\n",
    "\n",
    "    def update(self):\n",
    "        '''\n",
    "        Do a single cell update of the model state.\n",
    "        '''\n",
    "        # Pick a random cell to flip\n",
    "        i, j = np.random.randint(self.size, size=2)\n",
    "\n",
    "        # Change in energy from current state to next state\n",
    "        delta_E = 2 * self.J * self.state[i,j] * (\n",
    "            self.state[(i + 1) % self.size, j] +\n",
    "            self.state[(i - 1) % self.size, j] +\n",
    "            self.state[i, (j + 1) % self.size] +\n",
    "            self.state[i, (j - 1) % self.size])\n",
    "\n",
    "        # Log probability of changing state\n",
    "        log_p = -delta_E / (self.temperature * self.kB)\n",
    "        if np.log(np.random.uniform(0, 1)) < log_p:\n",
    "            self.state[i,j] = -self.state[i,j]\n",
    "\n",
    "        self.step += 1\n",
    "\n",
    "    def display(self):\n",
    "        '''\n",
    "        Plot the state of the model.\n",
    "        '''\n",
    "        plt.figure()\n",
    "        plt.imshow(self.state, vmin=-1, vmax=+1)\n",
    "        plt.title('Step: ' + str(self.step) + ', M = ' + str(self.average_magnetism()))"
   ]
  },
  {
   "cell_type": "markdown",
   "metadata": {},
   "source": [
    "### Task 1"
   ]
  },
  {
   "cell_type": "code",
   "execution_count": 5,
   "metadata": {},
   "outputs": [
    {
     "data": {
      "image/png": "[encoded data removed]",
      "text/plain": [
       "<Figure size 432x288 with 1 Axes>"
      ]
     },
     "metadata": {
      "needs_background": "light"
     },
     "output_type": "display_data"
    }
   ],
   "source": [
    "size = 20\n",
    "sim = IsingSimulation(size, temperature=1)  # Ising model at the Curie temperature\n",
    "for _ in range(100000):\n",
    "    sim.update()\n",
    "sim.display()"
   ]
  },
  {
   "cell_type": "code",
   "execution_count": 6,
   "metadata": {},
   "outputs": [
    {
     "data": {
      "text/plain": [
       "Text(0.5, 1.0, 'Average magnetization at temperature 1 Kelvin')"
      ]
     },
     "execution_count": 6,
     "metadata": {},
     "output_type": "execute_result"
    },
    {
     "data": {
      "image/png": "[encoded data removed]",
      "text/plain": [
       "<Figure size 432x288 with 1 Axes>"
      ]
     },
     "metadata": {
      "needs_background": "light"
     },
     "output_type": "display_data"
    }
   ],
   "source": [
    "magnetization = list()\n",
    "sim_times = 100\n",
    "steps = 100000\n",
    "\n",
    "for i in range(sim_times):\n",
    "    sim = IsingSimulation(size, temperature = 1)\n",
    "    for _ in range(steps):\n",
    "        sim.update()\n",
    "    magnetization.append(sim.average_magnetism())\n",
    "\n",
    "# Plot the histogram\n",
    "plt.hist(magnetization)\n",
    "plt.xlabel(\"Average magnetization\")\n",
    "plt.ylabel(\"Frequency\")\n",
    "plt.title(\"Average magnetization at temperature 1 Kelvin\")"
   ]
  },
  {
   "cell_type": "markdown",
   "metadata": {},
   "source": [
    "### Task 2"
   ]
  },
  {
   "cell_type": "code",
   "execution_count": 7,
   "metadata": {},
   "outputs": [
    {
     "data": {
      "text/plain": [
       "Text(0.5, 1.0, 'Average magnetization with slow drop down from 2000 Kelvin')"
      ]
     },
     "execution_count": 7,
     "metadata": {},
     "output_type": "execute_result"
    },
    {
     "data": {
      "image/png": "[encoded data removed]",
      "text/plain": [
       "<Figure size 432x288 with 1 Axes>"
      ]
     },
     "metadata": {
      "needs_background": "light"
     },
     "output_type": "display_data"
    }
   ],
   "source": [
    "magnetization_2 = list()\n",
    "sim_nums = 100\n",
    "steps = 100000\n",
    "update_steps = 400\n",
    "\n",
    "for i in range(sim_nums):\n",
    "    \n",
    "    sim = IsingSimulation(size, temperature = 2000)\n",
    "    \n",
    "    while sim.temperature > 1:\n",
    "        for j in range(update_steps):\n",
    "            sim.update()\n",
    "        sim.set_temperature(sim.temperature - 1)\n",
    "\n",
    "    for _ in range(steps):\n",
    "        sim.update()\n",
    "    magnetization_2.append(sim.average_magnetism())\n",
    "\n",
    "plt.hist(magnetization_2)\n",
    "plt.xlabel(\"Average magnetization\")\n",
    "plt.ylabel(\"Frequency\")\n",
    "plt.title(\"Average magnetization with slow drop down from 2000 Kelvin\")"
   ]
  },
  {
   "cell_type": "code",
   "execution_count": null,
   "metadata": {},
   "outputs": [],
   "source": []
  }
 ],
 "metadata": {
  "kernelspec": {
   "display_name": "Python 3",
   "language": "python",
   "name": "python3"
  },
  "language_info": {
   "codemirror_mode": {
    "name": "ipython",
    "version": 3
   },
   "file_extension": ".py",
   "mimetype": "text/x-python",
   "name": "python",
   "nbconvert_exporter": "python",
   "pygments_lexer": "ipython3",
   "version": "3.7.3"
  }
 },
 "nbformat": 4,
 "nbformat_minor": 2
}
